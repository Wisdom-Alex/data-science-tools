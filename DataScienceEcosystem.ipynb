{
 "cells": [
  {
   "cell_type": "markdown",
   "id": "7d0dead9-310f-4d86-8610-41f0bf9c9486",
   "metadata": {},
   "source": [
    "# My First Program"
   ]
  },
  {
   "cell_type": "markdown",
   "id": "6443fa3c-33e9-4f50-a618-8ec09c0dc38d",
   "metadata": {},
   "source": [
    "# Data Science Tools and Ecosystem"
   ]
  },
  {
   "cell_type": "markdown",
   "id": "5c2f253d-2a2f-4e7c-a936-51a3a9528cc2",
   "metadata": {},
   "source": [
    "In this notebook, Data Science Tools and Ecosystem are summarized."
   ]
  },
  {
   "cell_type": "markdown",
   "id": "343d4ed0-b20f-4f4c-bf38-7b9f5e2f6e0e",
   "metadata": {},
   "source": [
    "**Objectives:**\n",
    "* List popular languages for Data Science\n",
    "* Data Science Tools\n",
    "* Commonly used libraried used by Data Scientists"
   ]
  },
  {
   "cell_type": "markdown",
   "id": "ef7797af-9e74-4aa4-b9a8-4b1d982e6214",
   "metadata": {},
   "source": [
    "Some of the popular languages that Data Scientists use are:"
   ]
  },
  {
   "cell_type": "markdown",
   "id": "5e95211f-e8c4-4d26-8eeb-d49cc6f670f6",
   "metadata": {},
   "source": [
    "1. Python\n",
    "2. R\n",
    "3. Scalar"
   ]
  },
  {
   "cell_type": "markdown",
   "id": "45285e53-2b3c-45a5-9a45-3ade787600b4",
   "metadata": {},
   "source": [
    "*Some of commonly used libraries used by Data Scientists include:*\n",
    "1. Panda\n",
    "2. PyTorch\n",
    "3.  SciKit-Learn"
   ]
  },
  {
   "cell_type": "markdown",
   "id": "8c3180ea-3f55-4376-a8fb-8507c0c83787",
   "metadata": {},
   "source": [
    "Data Science Tools |\n",
    "------------------- |\n",
    " Jupyter Notebook  |\n",
    "Visual Studio     |\n",
    " Spyder         |   \n",
    "\n"
   ]
  },
  {
   "cell_type": "markdown",
   "id": "c0c74a48-7a81-456f-b50e-d7776e729ec1",
   "metadata": {},
   "source": [
    "### Below are a few examples of evaluating arithmetic expressions in Python"
   ]
  },
  {
   "cell_type": "code",
   "execution_count": 10,
   "id": "81eb8deb-1fbc-472a-8f02-ad39a88fe72d",
   "metadata": {},
   "outputs": [
    {
     "data": {
      "text/plain": [
       "17"
      ]
     },
     "execution_count": 10,
     "metadata": {},
     "output_type": "execute_result"
    }
   ],
   "source": [
    "# This a simple arithmetic expression to multipoly then add integers\n",
    "(3*4)+5"
   ]
  },
  {
   "cell_type": "code",
   "execution_count": 12,
   "id": "58f6c5e4-796a-4e65-b001-2923e515e16b",
   "metadata": {},
   "outputs": [
    {
     "data": {
      "text/plain": [
       "3.3333333333333335"
      ]
     },
     "execution_count": 12,
     "metadata": {},
     "output_type": "execute_result"
    }
   ],
   "source": [
    "# This will convert 200 minutes to hours by dividing by 60\n",
    "200/60"
   ]
  },
  {
   "cell_type": "markdown",
   "id": "8702a8f3-2ad5-495b-8b53-66a54538d7fe",
   "metadata": {},
   "source": [
    "## Author \n",
    "Wisdom Chimezie"
   ]
  },
  {
   "cell_type": "code",
   "execution_count": null,
   "id": "4e3638e2-3d4c-40d5-9784-9e2639f43691",
   "metadata": {},
   "outputs": [],
   "source": []
  }
 ],
 "metadata": {
  "kernelspec": {
   "display_name": "Python 3 (ipykernel)",
   "language": "python",
   "name": "python3"
  },
  "language_info": {
   "codemirror_mode": {
    "name": "ipython",
    "version": 3
   },
   "file_extension": ".py",
   "mimetype": "text/x-python",
   "name": "python",
   "nbconvert_exporter": "python",
   "pygments_lexer": "ipython3",
   "version": "3.10.9"
  }
 },
 "nbformat": 4,
 "nbformat_minor": 5
}
